{
 "cells": [
  {
   "cell_type": "code",
   "execution_count": 1,
   "metadata": {},
   "outputs": [
    {
     "name": "stderr",
     "output_type": "stream",
     "text": [
      "C:\\Users\\64161\\Anaconda3\\lib\\importlib\\_bootstrap.py:219: RuntimeWarning: numpy.ufunc size changed, may indicate binary incompatibility. Expected 216, got 192\n",
      "  return f(*args, **kwds)\n",
      "C:\\Users\\64161\\Anaconda3\\lib\\importlib\\_bootstrap.py:219: RuntimeWarning: numpy.ufunc size changed, may indicate binary incompatibility. Expected 192 from C header, got 216 from PyObject\n",
      "  return f(*args, **kwds)\n"
     ]
    }
   ],
   "source": [
    "import numpy as np\n",
    "from matplotlib import pyplot as plt\n",
    "import pandas as pd\n",
    "from sklearn.datasets import load_boston\n",
    "from sklearn.ensemble import GradientBoostingRegressor\n",
    "from sklearn.model_selection import cross_val_score\n",
    "import time\n",
    "\n",
    "from skopt.space import Real, Integer\n",
    "from skopt.utils import use_named_args\n",
    "from skopt import gp_minimize\n",
    "from skopt import dummy_minimize\n",
    "from skopt import forest_minimize\n",
    "from skopt.plots import plot_convergence"
   ]
  },
  {
   "cell_type": "code",
   "execution_count": 2,
   "metadata": {},
   "outputs": [],
   "source": [
    "#数据初始化\n",
    "boston = load_boston()\n",
    "x,  y  = boston.data , boston.target\n",
    "feature_n  =  x.shape[1]\n",
    "\n",
    "#模型初始化\n",
    "reg = GradientBoostingRegressor(n_estimators=50, random_state=0)\n",
    "\n",
    "#域初始化\n",
    "space  = [Integer(1, 10, name='max_depth'),\n",
    "          Real(10**-5, 10**0, \"log-uniform\", name='learning_rate'),\n",
    "          Integer(1, feature_n, name='max_features'),\n",
    "          Integer(2, 200, name='min_samples_split'),\n",
    "          Integer(1, 200, name='min_samples_leaf')]\n",
    "\n",
    "#目标方法初始化\n",
    "@use_named_args(space)\n",
    "def objective(**params):\n",
    "    reg.set_params(**params)\n",
    "\n",
    "    return -np.mean(cross_val_score(reg, x, y, cv=5, n_jobs=-1,\n",
    "                                    scoring=\"neg_mean_absolute_error\"))"
   ]
  },
  {
   "cell_type": "code",
   "execution_count": 4,
   "metadata": {},
   "outputs": [],
   "source": [
    "#随机自动调参\n",
    "time_start_1=time.time()\n",
    "res_grid = dummy_minimize(objective, space, n_calls=30, random_state=0)\n",
    "time_end_1=time.time()"
   ]
  },
  {
   "cell_type": "code",
   "execution_count": 5,
   "metadata": {},
   "outputs": [],
   "source": [
    "#GP自动调参\n",
    "time_start_2=time.time()\n",
    "res_gp = gp_minimize(objective, space, n_calls=30, random_state=0)\n",
    "time_end_2=time.time()"
   ]
  },
  {
   "cell_type": "code",
   "execution_count": 6,
   "metadata": {},
   "outputs": [],
   "source": [
    "#SMAC自动调参\n",
    "time_start_3=time.time()\n",
    "res_smac = forest_minimize(objective, space, n_calls=30, random_state=0)\n",
    "time_end_3=time.time()"
   ]
  },
  {
   "cell_type": "code",
   "execution_count": 7,
   "metadata": {},
   "outputs": [
    {
     "name": "stdout",
     "output_type": "stream",
     "text": [
      "Algorithm: Random Grid\n",
      "Best score=3.2769\n",
      "dummy_minimize totally cost 3.26227068901062\n",
      "Best parameters:\n",
      "- max_depth=4\n",
      "- learning_rate=0.211599\n",
      "- max_features=3\n",
      "- min_samples_split=157\n",
      "- min_samples_leaf=15\n"
     ]
    }
   ],
   "source": [
    "#随机调参结果\n",
    "print('Algorithm: Random Grid')\n",
    "print(\"Best score=%.4f\" % res_grid.fun)\n",
    "print('dummy_minimize totally cost',time_end_1-time_start_1)\n",
    "print(\"\"\"Best parameters:\n",
    "- max_depth=%d\n",
    "- learning_rate=%.6f\n",
    "- max_features=%d\n",
    "- min_samples_split=%d\n",
    "- min_samples_leaf=%d\"\"\" % (res_grid.x[0], res_grid.x[1], \n",
    "                            res_grid.x[2], res_grid.x[3], \n",
    "                            res_grid.x[4]))"
   ]
  },
  {
   "cell_type": "code",
   "execution_count": 8,
   "metadata": {},
   "outputs": [
    {
     "name": "stdout",
     "output_type": "stream",
     "text": [
      "Algorithm: Gaussion Process\n",
      "Best score=2.9713\n",
      "gp_minimize totally cost 10.38023066520691\n",
      "Best parameters:\n",
      "- max_depth=10\n",
      "- learning_rate=0.142433\n",
      "- max_features=13\n",
      "- min_samples_split=130\n",
      "- min_samples_leaf=1\n"
     ]
    }
   ],
   "source": [
    "#GP调参结果\n",
    "print('Algorithm: Gaussion Process')\n",
    "print(\"Best score=%.4f\" % res_gp.fun)\n",
    "print('gp_minimize totally cost',time_end_2-time_start_2)\n",
    "print(\"\"\"Best parameters:\n",
    "- max_depth=%d\n",
    "- learning_rate=%.6f\n",
    "- max_features=%d\n",
    "- min_samples_split=%d\n",
    "- min_samples_leaf=%d\"\"\" % (res_gp.x[0], res_gp.x[1], \n",
    "                            res_gp.x[2], res_gp.x[3], \n",
    "                            res_gp.x[4]))"
   ]
  },
  {
   "cell_type": "code",
   "execution_count": 9,
   "metadata": {},
   "outputs": [
    {
     "name": "stdout",
     "output_type": "stream",
     "text": [
      "Algorithm: Forest Based\n",
      "Best score=3.3391\n",
      "gp_minimize totally cost 4.487029314041138\n",
      "Best parameters:\n",
      "- max_depth=6\n",
      "- learning_rate=0.355657\n",
      "- max_features=13\n",
      "- min_samples_split=152\n",
      "- min_samples_leaf=61\n"
     ]
    }
   ],
   "source": [
    "#SMAC调参结果\n",
    "print('Algorithm: Forest Based')\n",
    "print(\"Best score=%.4f\" % res_smac.fun)\n",
    "print('gp_minimize totally cost',time_end_3-time_start_3)\n",
    "print(\"\"\"Best parameters:\n",
    "- max_depth=%d\n",
    "- learning_rate=%.6f\n",
    "- max_features=%d\n",
    "- min_samples_split=%d\n",
    "- min_samples_leaf=%d\"\"\" % (res_smac.x[0], res_smac.x[1], \n",
    "                            res_smac.x[2], res_smac.x[3], \n",
    "                            res_smac.x[4]))"
   ]
  },
  {
   "cell_type": "code",
   "execution_count": 26,
   "metadata": {},
   "outputs": [
    {
     "data": {
      "text/plain": [
       "<matplotlib.legend.Legend at 0x245b0e08eb8>"
      ]
     },
     "execution_count": 26,
     "metadata": {},
     "output_type": "execute_result"
    },
    {
     "data": {
      "image/png": "[encoded data removed]",
      "text/plain": [
       "<Figure size 432x288 with 1 Axes>"
      ]
     },
     "metadata": {
      "needs_background": "light"
     },
     "output_type": "display_data"
    }
   ],
   "source": [
    "plot_convergence(res_grid,res_gp,res_smac)\n",
    "plt.legend(['res_grid', 'res_gp', 'res_smac'], loc = 'upper right') "
   ]
  }
 ],
 "metadata": {
  "kernelspec": {
   "display_name": "Python 3",
   "language": "python",
   "name": "python3"
  },
  "language_info": {
   "codemirror_mode": {
    "name": "ipython",
    "version": 3
   },
   "file_extension": ".py",
   "mimetype": "text/x-python",
   "name": "python",
   "nbconvert_exporter": "python",
   "pygments_lexer": "ipython3",
   "version": "3.7.1"
  }
 },
 "nbformat": 4,
 "nbformat_minor": 2
}
